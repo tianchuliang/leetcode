{
 "cells": [
  {
   "cell_type": "code",
   "execution_count": 1,
   "metadata": {},
   "outputs": [],
   "source": [
    "from H_algo import median_of_two_sorted_arrs,\\\n",
    "                    valid_number,\\\n",
    "                    max_pts_on_a_line,\\\n",
    "                    word_ladder_ii,\\\n",
    "                    shortest_subarray,\\\n",
    "                    text_justification,\\\n",
    "                    wildcard_matching,\\\n",
    "                    split_arr_with_same_avg,\\\n",
    "                    swim_in_water,\\\n",
    "                    MedianFinder,\\\n",
    "                    min_refuel_stops,\\\n",
    "                    merge_k_sorted_linkedlists\n",
    "\n",
    "from basic_algo import mergesort"
   ]
  },
  {
   "cell_type": "code",
   "execution_count": null,
   "metadata": {},
   "outputs": [],
   "source": [
    "class Solution(object):\n",
    "    def __init__(self):\n",
    "        self.cnt = 0 \n",
    "    def reversePairs(self,nums):\n",
    "        def msort(lst):\n",
    "            if len(lst) <= 1:\n",
    "                return lst         \n",
    "            halfpt = int(len(lst)/2)\n",
    "            return merge(msort(lst[:halfpt]),msort(lst[halfpt:]))\n",
    "        def merge(self,A,B):\n",
    "            l,r = 0,0\n",
    "            while l<len(A) and r <len(B):\n",
    "                if A[l] <= 2 * B[r]:\n",
    "                    l+= 1\n",
    "                else:\n",
    "                    self.cnt +=1\n",
    "                    r+=1\n",
    "            return sorted(A+B)\n",
    "        msort(nums)\n",
    "        return self.cnt"
   ]
  },
  {
   "cell_type": "code",
   "execution_count": null,
   "metadata": {},
   "outputs": [],
   "source": [
    "def find_substring(s,words):\n",
    "    return 0 "
   ]
  },
  {
   "cell_type": "markdown",
   "metadata": {},
   "source": [
    "count(num)\n",
    "e.g.\n",
    "count(5) = 4, means there are 4 pair distances that are <= 5\n",
    ". \n",
    ". \n",
    ". \n",
    "what's the 5th smallest pair distance\n",
    "count(1)....0\n",
    "count(2)....0\n",
    "count(3)....98\n",
    "count(4)....90"
   ]
  },
  {
   "cell_type": "code",
   "execution_count": 35,
   "metadata": {},
   "outputs": [
    {
     "data": {
      "text/plain": [
       "-1"
      ]
     },
     "execution_count": 35,
     "metadata": {},
     "output_type": "execute_result"
    }
   ],
   "source": [
    "min_refuel_stops(100,1,[[10,100]])"
   ]
  },
  {
   "cell_type": "code",
   "execution_count": null,
   "metadata": {},
   "outputs": [],
   "source": [
    "\n",
    "    "
   ]
  }
 ],
 "metadata": {
  "kernelspec": {
   "display_name": "Python 3",
   "language": "python",
   "name": "python3"
  },
  "language_info": {
   "codemirror_mode": {
    "name": "ipython",
    "version": 3
   },
   "file_extension": ".py",
   "mimetype": "text/x-python",
   "name": "python",
   "nbconvert_exporter": "python",
   "pygments_lexer": "ipython3",
   "version": "3.6.5"
  }
 },
 "nbformat": 4,
 "nbformat_minor": 2
}
